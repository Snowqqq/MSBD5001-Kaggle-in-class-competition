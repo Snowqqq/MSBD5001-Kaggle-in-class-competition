{
 "cells": [
  {
   "cell_type": "code",
   "execution_count": 1,
   "metadata": {},
   "outputs": [],
   "source": [
    "import re\n",
    "import numpy as np\n",
    "import pandas as pd\n",
    "from sklearn.ensemble import RandomForestRegressor\n",
    "import matplotlib.pyplot as plt\n",
    "from sklearn import datasets\n",
    "from sklearn.model_selection import train_test_split, ShuffleSplit, GridSearchCV\n",
    "from sklearn.metrics import accuracy_score\n",
    "from xgboost import XGBClassifier\n",
    "import xgboost as xgb\n",
    "from sklearn.metrics import mean_squared_error,r2_score\n",
    "from xgboost import plot_importance\n",
    "from sklearn import metrics"
   ]
  },
  {
   "cell_type": "code",
   "execution_count": 2,
   "metadata": {},
   "outputs": [
    {
     "name": "stdout",
     "output_type": "stream",
     "text": [
      "       Unnamed: 0     id              date      speed             date1  \\\n",
      "0               0      0     1/1/2017 0:00  43.002930     2017/1/1 0:00   \n",
      "1               1      1     1/1/2017 1:00  46.118696     2017/1/1 1:00   \n",
      "2               2      2     1/1/2017 2:00  44.294158     2017/1/1 2:00   \n",
      "3               3      3     1/1/2017 3:00  41.067468     2017/1/1 3:00   \n",
      "4               4      4     1/1/2017 4:00  46.448653     2017/1/1 4:00   \n",
      "...           ...    ...               ...        ...               ...   \n",
      "14001       14001  14001  31/12/2018 12:00  19.865269  2018/12/31 12:00   \n",
      "14002       14002  14002  31/12/2018 15:00  17.820375  2018/12/31 15:00   \n",
      "14003       14003  14003  31/12/2018 16:00  12.501851  2018/12/31 16:00   \n",
      "14004       14004  14004  31/12/2018 18:00  15.979319  2018/12/31 18:00   \n",
      "14005       14005  14005  31/12/2018 20:00  40.594183  2018/12/31 20:00   \n",
      "\n",
      "           t_date    t_time  holiday  daybefore  is_weekend  ...  temper  \\\n",
      "0        2017/1/1   0:00:00        1          0           1  ...    19.2   \n",
      "1        2017/1/1   1:00:00        1          0           1  ...    19.2   \n",
      "2        2017/1/1   2:00:00        1          0           1  ...    19.2   \n",
      "3        2017/1/1   3:00:00        1          0           1  ...    19.2   \n",
      "4        2017/1/1   4:00:00        1          0           1  ...    19.2   \n",
      "...           ...       ...      ...        ...         ...  ...     ...   \n",
      "14001  2018/12/31  12:00:00        0          0           0  ...    13.2   \n",
      "14002  2018/12/31  15:00:00        0          0           0  ...    13.2   \n",
      "14003  2018/12/31  16:00:00        0          0           0  ...    13.2   \n",
      "14004  2018/12/31  18:00:00        0          0           0  ...    13.2   \n",
      "14005  2018/12/31  20:00:00        0          0           0  ...    13.2   \n",
      "\n",
      "       weather2  weather3  wet  cloud  rain  weather4  weather5  wind weekday  \n",
      "0          18.4      15.6   80     72   0.0       4.6        60  34.2       7  \n",
      "1          18.4      15.6   80     72   0.0       4.6        60  34.2       7  \n",
      "2          18.4      15.6   80     72   0.0       4.6        60  34.2       7  \n",
      "3          18.4      15.6   80     72   0.0       4.6        60  34.2       7  \n",
      "4          18.4      15.6   80     72   0.0       4.6        60  34.2       7  \n",
      "...         ...       ...  ...    ...   ...       ...       ...   ...     ...  \n",
      "14001      11.8       7.4   68     77   0.0       4.4       360  26.8       1  \n",
      "14002      11.8       7.4   68     77   0.0       4.4       360  26.8       1  \n",
      "14003      11.8       7.4   68     77   0.0       4.4       360  26.8       1  \n",
      "14004      11.8       7.4   68     77   0.0       4.4       360  26.8       1  \n",
      "14005      11.8       7.4   68     77   0.0       4.4       360  26.8       1  \n",
      "\n",
      "[14006 rows x 22 columns]\n"
     ]
    }
   ],
   "source": [
    "train_data = pd.read_csv('data/train_data.csv')\n",
    "test_data = pd.read_csv('data/test_data.csv')\n",
    "print(train_data)"
   ]
  },
  {
   "cell_type": "code",
   "execution_count": 3,
   "metadata": {},
   "outputs": [
    {
     "name": "stderr",
     "output_type": "stream",
     "text": [
      "C:\\Users\\snow\\.conda\\envs\\bdt\\lib\\site-packages\\ipykernel_launcher.py:8: SettingWithCopyWarning: \n",
      "A value is trying to be set on a copy of a slice from a DataFrame\n",
      "\n",
      "See the caveats in the documentation: https://pandas.pydata.org/pandas-docs/stable/user_guide/indexing.html#returning-a-view-versus-a-copy\n",
      "  \n"
     ]
    },
    {
     "name": "stdout",
     "output_type": "stream",
     "text": [
      "0           [1, 1, 2017, 0, 00]\n",
      "1           [1, 1, 2017, 1, 00]\n",
      "2           [1, 1, 2017, 2, 00]\n",
      "3           [1, 1, 2017, 3, 00]\n",
      "4           [1, 1, 2017, 4, 00]\n",
      "                  ...          \n",
      "14001    [31, 12, 2018, 12, 00]\n",
      "14002    [31, 12, 2018, 15, 00]\n",
      "14003    [31, 12, 2018, 16, 00]\n",
      "14004    [31, 12, 2018, 18, 00]\n",
      "14005    [31, 12, 2018, 20, 00]\n",
      "Name: date, Length: 14006, dtype: object\n",
      "0        43.002930\n",
      "1        46.118696\n",
      "2        44.294158\n",
      "3        41.067468\n",
      "4        46.448653\n",
      "           ...    \n",
      "14001    19.865269\n",
      "14002    17.820375\n",
      "14003    12.501851\n",
      "14004    15.979319\n",
      "14005    40.594183\n",
      "Name: speed, Length: 14006, dtype: float64\n"
     ]
    }
   ],
   "source": [
    "# 确定要预测的特征变量（标签）\n",
    "train_y = train_data.speed\n",
    "# 要训练的特征列表\n",
    "#predictor_cols = ['date']\n",
    "# 要训练的真正的数据\n",
    "train_X = train_data.date\n",
    "for i in range(len(train_X)):\n",
    "    train_X[i] = re.split(r'[;,\\s/:]', train_X[i])\n",
    "#    train_X[i] = re.sub('[\\r\\t:/]', '', train_X[i]).replace(\" \", \"\")\n",
    "print(train_X)\n",
    "print(train_y)\n"
   ]
  },
  {
   "cell_type": "code",
   "execution_count": 4,
   "metadata": {},
   "outputs": [],
   "source": [
    "def judgeDay(day, mon, year):\n",
    "    total_day = 0  # 周几\n",
    "    week_day = 1  # 0是放假\n",
    "    for i in range(int(mon)-1):\n",
    "        total_day += month[i]\n",
    "    total_day += day\n",
    "    total_day = (total_day - (2018-year)) % 7\n",
    "    \n",
    "    if year == 2017:\n",
    "        if mon == 1:\n",
    "            if day == 2 or day == 28 or day == 30 or day == 31:\n",
    "                week_day = 0\n",
    "        if mon == 4:\n",
    "            if day == 14 or day == 15 or day == 17:\n",
    "                week_day = 0\n",
    "        if mon == 5:\n",
    "            if day == 1 or day == 3 or day == 30:\n",
    "                week_day = 0\n",
    "        if mon == 7:\n",
    "            if day == 1:\n",
    "                week_day = 0\n",
    "        if mon == 10:\n",
    "            if day == 2 or day == 5 or day == 28:\n",
    "                week_day = 0\n",
    "        if mon == 12:\n",
    "            if day == 25 or day == 26:\n",
    "                week_day = 0\n",
    "    if year == 2018:\n",
    "        if mon == 1:\n",
    "            if day == 1:\n",
    "                week_day = 0\n",
    "        if mon == 2:\n",
    "            if day == 16 or day == 17 or day == 19:\n",
    "                week_day = 0\n",
    "        if mon == 3:\n",
    "            if day == 30 or day == 31:\n",
    "                week_day = 0\n",
    "        if mon == 4:\n",
    "            if day == 2 or day == 5:\n",
    "                week_day = 0\n",
    "        if mon == 5:\n",
    "            if day == 1 or day == 22:\n",
    "                week_day = 0\n",
    "        if mon == 6:\n",
    "            if day == 18:\n",
    "                week_day = 0\n",
    "        if mon == 7:\n",
    "            if day == 2:\n",
    "                week_day = 0\n",
    "        if mon == 9:\n",
    "            if day == 25:\n",
    "                week_day = 0\n",
    "        if mon == 10:\n",
    "            if day == 1 or day == 17:\n",
    "                week_day = 0\n",
    "        if mon == 12:\n",
    "            if day == 25 or day == 26:\n",
    "                week_day = 0\n",
    "    if(total_day > 5 or total_day == 0): # total_day > 5 周六休息吗？\n",
    "        week_day = 0\n",
    "    \n",
    "    return total_day, week_day\n",
    "\n"
   ]
  },
  {
   "cell_type": "code",
   "execution_count": 5,
   "metadata": {},
   "outputs": [],
   "source": [
    "def judgeHour(time):\n",
    "    if(time >= 8 and time <= 9) or (time >= 16 and time <= 19):\n",
    "        return 0\n",
    "    if(time >9 and time < 16):\n",
    "        return 1\n",
    "    else:\n",
    "        return 2"
   ]
  },
  {
   "cell_type": "code",
   "execution_count": 6,
   "metadata": {},
   "outputs": [
    {
     "name": "stderr",
     "output_type": "stream",
     "text": [
      "C:\\Users\\snow\\.conda\\envs\\bdt\\lib\\site-packages\\ipykernel_launcher.py:22: SettingWithCopyWarning: \n",
      "A value is trying to be set on a copy of a slice from a DataFrame\n",
      "\n",
      "See the caveats in the documentation: https://pandas.pydata.org/pandas-docs/stable/user_guide/indexing.html#returning-a-view-versus-a-copy\n",
      "C:\\Users\\snow\\.conda\\envs\\bdt\\lib\\site-packages\\ipykernel_launcher.py:23: SettingWithCopyWarning: \n",
      "A value is trying to be set on a copy of a slice from a DataFrame\n",
      "\n",
      "See the caveats in the documentation: https://pandas.pydata.org/pandas-docs/stable/user_guide/indexing.html#returning-a-view-versus-a-copy\n",
      "C:\\Users\\snow\\.conda\\envs\\bdt\\lib\\site-packages\\ipykernel_launcher.py:24: SettingWithCopyWarning: \n",
      "A value is trying to be set on a copy of a slice from a DataFrame\n",
      "\n",
      "See the caveats in the documentation: https://pandas.pydata.org/pandas-docs/stable/user_guide/indexing.html#returning-a-view-versus-a-copy\n",
      "C:\\Users\\snow\\.conda\\envs\\bdt\\lib\\site-packages\\ipykernel_launcher.py:25: SettingWithCopyWarning: \n",
      "A value is trying to be set on a copy of a slice from a DataFrame\n",
      "\n",
      "See the caveats in the documentation: https://pandas.pydata.org/pandas-docs/stable/user_guide/indexing.html#returning-a-view-versus-a-copy\n",
      "C:\\Users\\snow\\.conda\\envs\\bdt\\lib\\site-packages\\ipykernel_launcher.py:27: SettingWithCopyWarning: \n",
      "A value is trying to be set on a copy of a slice from a DataFrame\n",
      "\n",
      "See the caveats in the documentation: https://pandas.pydata.org/pandas-docs/stable/user_guide/indexing.html#returning-a-view-versus-a-copy\n",
      "C:\\Users\\snow\\.conda\\envs\\bdt\\lib\\site-packages\\ipykernel_launcher.py:42: SettingWithCopyWarning: \n",
      "A value is trying to be set on a copy of a slice from a DataFrame\n",
      "\n",
      "See the caveats in the documentation: https://pandas.pydata.org/pandas-docs/stable/user_guide/indexing.html#returning-a-view-versus-a-copy\n",
      "C:\\Users\\snow\\.conda\\envs\\bdt\\lib\\site-packages\\ipykernel_launcher.py:44: SettingWithCopyWarning: \n",
      "A value is trying to be set on a copy of a slice from a DataFrame\n",
      "\n",
      "See the caveats in the documentation: https://pandas.pydata.org/pandas-docs/stable/user_guide/indexing.html#returning-a-view-versus-a-copy\n",
      "C:\\Users\\snow\\.conda\\envs\\bdt\\lib\\site-packages\\ipykernel_launcher.py:29: SettingWithCopyWarning: \n",
      "A value is trying to be set on a copy of a slice from a DataFrame\n",
      "\n",
      "See the caveats in the documentation: https://pandas.pydata.org/pandas-docs/stable/user_guide/indexing.html#returning-a-view-versus-a-copy\n",
      "C:\\Users\\snow\\.conda\\envs\\bdt\\lib\\site-packages\\ipykernel_launcher.py:31: SettingWithCopyWarning: \n",
      "A value is trying to be set on a copy of a slice from a DataFrame\n",
      "\n",
      "See the caveats in the documentation: https://pandas.pydata.org/pandas-docs/stable/user_guide/indexing.html#returning-a-view-versus-a-copy\n",
      "C:\\Users\\snow\\.conda\\envs\\bdt\\lib\\site-packages\\ipykernel_launcher.py:33: SettingWithCopyWarning: \n",
      "A value is trying to be set on a copy of a slice from a DataFrame\n",
      "\n",
      "See the caveats in the documentation: https://pandas.pydata.org/pandas-docs/stable/user_guide/indexing.html#returning-a-view-versus-a-copy\n",
      "C:\\Users\\snow\\.conda\\envs\\bdt\\lib\\site-packages\\ipykernel_launcher.py:35: SettingWithCopyWarning: \n",
      "A value is trying to be set on a copy of a slice from a DataFrame\n",
      "\n",
      "See the caveats in the documentation: https://pandas.pydata.org/pandas-docs/stable/user_guide/indexing.html#returning-a-view-versus-a-copy\n",
      "C:\\Users\\snow\\.conda\\envs\\bdt\\lib\\site-packages\\ipykernel_launcher.py:37: SettingWithCopyWarning: \n",
      "A value is trying to be set on a copy of a slice from a DataFrame\n",
      "\n",
      "See the caveats in the documentation: https://pandas.pydata.org/pandas-docs/stable/user_guide/indexing.html#returning-a-view-versus-a-copy\n",
      "C:\\Users\\snow\\.conda\\envs\\bdt\\lib\\site-packages\\ipykernel_launcher.py:39: SettingWithCopyWarning: \n",
      "A value is trying to be set on a copy of a slice from a DataFrame\n",
      "\n",
      "See the caveats in the documentation: https://pandas.pydata.org/pandas-docs/stable/user_guide/indexing.html#returning-a-view-versus-a-copy\n"
     ]
    },
    {
     "name": "stdout",
     "output_type": "stream",
     "text": [
      "        day  month    year  hour  Mon  Tue  Wed  Thur  Fri  Sat  ...  rain  \\\n",
      "0       1.0    1.0  2017.0   0.0  0.0  0.0  0.0   0.0  0.0  0.0  ...   0.0   \n",
      "1       1.0    1.0  2017.0   1.0  0.0  0.0  0.0   0.0  0.0  0.0  ...   0.0   \n",
      "2       1.0    1.0  2017.0   2.0  0.0  0.0  0.0   0.0  0.0  0.0  ...   0.0   \n",
      "3       1.0    1.0  2017.0   3.0  0.0  0.0  0.0   0.0  0.0  0.0  ...   0.0   \n",
      "4       1.0    1.0  2017.0   4.0  0.0  0.0  0.0   0.0  0.0  0.0  ...   0.0   \n",
      "...     ...    ...     ...   ...  ...  ...  ...   ...  ...  ...  ...   ...   \n",
      "14001  31.0   12.0  2018.0  12.0  1.0  0.0  0.0   0.0  0.0  0.0  ...   0.0   \n",
      "14002  31.0   12.0  2018.0  15.0  1.0  0.0  0.0   0.0  0.0  0.0  ...   0.0   \n",
      "14003  31.0   12.0  2018.0  16.0  1.0  0.0  0.0   0.0  0.0  0.0  ...   0.0   \n",
      "14004  31.0   12.0  2018.0  18.0  1.0  0.0  0.0   0.0  0.0  0.0  ...   0.0   \n",
      "14005  31.0   12.0  2018.0  20.0  1.0  0.0  0.0   0.0  0.0  0.0  ...   0.0   \n",
      "\n",
      "       wind  weekday  pressure  weather1  weather2  weather3  weather4  \\\n",
      "0      34.2      0.0    1021.7      20.8      18.4      15.6       4.6   \n",
      "1      34.2      0.0    1021.7      20.8      18.4      15.6       4.6   \n",
      "2      34.2      0.0    1021.7      20.8      18.4      15.6       4.6   \n",
      "3      34.2      0.0    1021.7      20.8      18.4      15.6       4.6   \n",
      "4      34.2      0.0    1021.7      20.8      18.4      15.6       4.6   \n",
      "...     ...      ...       ...       ...       ...       ...       ...   \n",
      "14001  26.8      1.0    1027.0      15.6      11.8       7.4       4.4   \n",
      "14002  26.8      1.0    1027.0      15.6      11.8       7.4       4.4   \n",
      "14003  26.8      1.0    1027.0      15.6      11.8       7.4       4.4   \n",
      "14004  26.8      1.0    1027.0      15.6      11.8       7.4       4.4   \n",
      "14005  26.8      1.0    1027.0      15.6      11.8       7.4       4.4   \n",
      "\n",
      "       holiday  weather5  \n",
      "0            1        60  \n",
      "1            1        60  \n",
      "2            1        60  \n",
      "3            1        60  \n",
      "4            1        60  \n",
      "...        ...       ...  \n",
      "14001        0       360  \n",
      "14002        0       360  \n",
      "14003        0       360  \n",
      "14004        0       360  \n",
      "14005        0       360  \n",
      "\n",
      "[14006 rows x 49 columns]\n"
     ]
    }
   ],
   "source": [
    "features = pd.DataFrame(np.zeros([14006, 48]), columns=['day', 'month', 'year', 'hour', 'Mon', 'Tue', 'Wed', 'Thur', 'Fri', 'Sat', 'Sun', 'hour0','hour1', 'hour2',\n",
    "                          'hour3', 'hour4', 'hour5','hour6', 'hour7', 'hour8','hour9', 'hour10', 'hour11','hour12', 'hour13', 'hour14',\n",
    "                          'hour15','hour16', 'hour17','hour18', 'hour19', 'hour20','hour21', 'hour22', 'hour23', 'dayoff', 'temper',\n",
    "                         'wet', 'cloud', 'rain', 'wind', 'weekday', 'pressure',  'weather1', 'weather2', 'weather3'\n",
    "                                                        , 'weather4', 'holiday'])\n",
    "\n",
    "features['temper'] = train_data.temper\n",
    "features['wet'] = train_data.wet\n",
    "features['cloud'] = train_data.cloud\n",
    "features['rain'] = train_data.rain\n",
    "features['wind'] = train_data.wind\n",
    "features['pressure'] = train_data.pressure\n",
    "features['weather1'] = train_data.weather1\n",
    "features['weather2'] = train_data.weather2\n",
    "features['weather3'] = train_data.weather3\n",
    "features['weather4'] = train_data.weather4\n",
    "features['weather5'] = train_data.weather5\n",
    "features['holiday'] = train_data.holiday\n",
    "\n",
    "month = [31,28,31,30,31,30,31,31,30,31,30,31]\n",
    "for i in range(14006):\n",
    "    features['day'][i] = train_X[i][0]\n",
    "    features['month'][i] = train_X[i][1]\n",
    "    features['year'][i] = train_X[i][2]\n",
    "    features['hour'][i] = train_X[i][3]\n",
    "    total_day, week_day = judgeDay( features['day'][i], features['month'][i], features['year'][i])\n",
    "    features['weekday'][i] = total_day\n",
    "    if total_day == 1:\n",
    "        features['Mon'][i] = 1\n",
    "    if total_day == 2:\n",
    "        features['Tue'][i] = 1\n",
    "    if total_day == 3:\n",
    "        features['Wed'][i] = 1\n",
    "    if total_day == 4:\n",
    "        features['Thur'][i] = 1\n",
    "    if total_day == 5:\n",
    "        features['Fri'][i] = 1\n",
    "    if total_day == 6:\n",
    "        features['Sat'][i] = 1\n",
    "    if total_day == 7:\n",
    "        features['Sun'][i] = 1\n",
    "    features['dayoff'][i] = week_day\n",
    "    hour = 'hour' + str(int(features['hour'][i]))\n",
    "    features[hour][i] = 1\n",
    "    \n",
    "\n",
    "print(features)"
   ]
  },
  {
   "cell_type": "code",
   "execution_count": 12,
   "metadata": {},
   "outputs": [
    {
     "name": "stdout",
     "output_type": "stream",
     "text": [
      "day        float64\n",
      "month      float64\n",
      "year       float64\n",
      "hour       float64\n",
      "Wed        float64\n",
      "Thur       float64\n",
      "Fri        float64\n",
      "Sat        float64\n",
      "Sun        float64\n",
      "dayoff     float64\n",
      "temper     float64\n",
      "wet          int64\n",
      "cloud        int64\n",
      "rain       float64\n",
      "wind       float64\n",
      "weekday    float64\n",
      "dtype: object\n"
     ]
    }
   ],
   "source": [
    "train_list = pd.DataFrame(features, columns=['day', 'month', 'year', 'hour', 'Wed', 'Thur', 'Fri', 'Sat', 'Sun',\n",
    "                        'dayoff', 'temper', 'wet', 'cloud', 'rain', 'wind', 'weekday'])\n",
    "\n",
    "x_train,x_test,y_train,y_test = train_test_split(train_list,train_y,test_size=0.25, random_state=41)\n",
    "\n",
    "print(x_train.dtypes)"
   ]
  },
  {
   "cell_type": "code",
   "execution_count": 28,
   "outputs": [
    {
     "name": "stdout",
     "output_type": "stream",
     "text": [
      "Fitting 6 folds for each of 4 candidates, totalling 24 fits\n",
      "[19:52:13] WARNING: src/objective/regression_obj.cu:152: reg:linear is now deprecated in favor of reg:squarederror.\n",
      "{'colsample_bytree': 1, 'gamma': 1, 'learning_rate': 0.01, 'max_depth': 10, 'min_child_weight': 6, 'n_estimators': 1800, 'reg_alpha': 5, 'reg_lambda': 5, 'subsample': 0.9} -10.408857609014516\n"
     ]
    },
    {
     "name": "stderr",
     "output_type": "stream",
     "text": [
      "[Parallel(n_jobs=-1)]: Using backend LokyBackend with 4 concurrent workers.\n",
      "[Parallel(n_jobs=-1)]: Done  24 out of  24 | elapsed:  3.2min finished\n"
     ]
    }
   ],
   "source": [
    "'''\n",
    "# 网格搜索\n",
    "xgb_model = xgb.XGBRegressor(nthread = 15)\n",
    "cv_split = ShuffleSplit(n_splits=6, train_size=0.75, test_size=0.25)\n",
    "param_grid = dict(\n",
    "    max_depth = [4, 5, 6, 7, 8, 9, 10],\n",
    "    learning_rate = [.01],\n",
    "    n_estimators = range(1500, 1750, 500),\n",
    "    subsample = [.90, .95, 1],\n",
    "    min_child_weight = [4, 5, 6, 7, 8, 9, 10],\n",
    "    colsample_bytree = [0.7, 0.8, 0.9],\n",
    "    gamma = [0.1, 0.2, 0.5, 0.6],\n",
    "    reg_alpha = [0.05, 0.1, 1, 2],\n",
    "    reg_lambda = [0.05, 0.1, 1, 2]\n",
    ")\n",
    "\n",
    "# 创建模型\n",
    "model = xgb.XGBRegressor()\n",
    "grid = GridSearchCV(model, param_grid, cv=cv_split, scoring='neg_mean_squared_error', n_jobs=-1,verbose=1)\n",
    "grid.fit(train_list, train_y)\n",
    "print(grid.best_params_, grid.best_score_)\n",
    "'''\n",
    "# model.fit(x_train,y_train)\n",
    "# y_pred = model.predict(x_test)\n",
    "# print('MSE为：',mean_squared_error(y_test,y_pred))"
   ],
   "metadata": {
    "collapsed": false,
    "pycharm": {
     "name": "#%%\n"
    }
   }
  },
  {
   "cell_type": "code",
   "execution_count": 40,
   "outputs": [
    {
     "name": "stdout",
     "output_type": "stream",
     "text": [
      "[22:15:46] WARNING: src/objective/regression_obj.cu:152: reg:linear is now deprecated in favor of reg:squarederror.\n",
      "MSE为： 10.612895670869458 0.9423303344877547\n"
     ]
    }
   ],
   "source": [
    "# xgboost模型\n",
    "model = xgb.XGBRegressor(n_estimators=380, learning_rate=.04, max_depth=9, subsample=.8, min_child_weight = 2, colsample_bytree = 1, gamma = 0.2, reg_alpha = 4, reg_lambda = 4)\n",
    "model.fit(x_train, y_train)\n",
    "y_pred = model.predict(x_test)\n",
    "print('MSE为：',mean_squared_error(y_test,y_pred), r2_score(y_test, y_pred))"
   ],
   "metadata": {
    "collapsed": false,
    "pycharm": {
     "name": "#%%\n"
    }
   }
  },
  {
   "cell_type": "code",
   "execution_count": 34,
   "metadata": {
    "scrolled": true
   },
   "outputs": [
    {
     "data": {
      "text/plain": "<Figure size 1332x756 with 1 Axes>",
      "image/png": "[encoded data removed]"
     },
     "metadata": {
      "needs_background": "light"
     },
     "output_type": "display_data"
    }
   ],
   "source": [
    "from numpy import loadtxt\n",
    "from xgboost import plot_importance\n",
    "from matplotlib import pyplot\n",
    "plot_importance(model)\n",
    "fig = pyplot.gcf()\n",
    "fig.set_size_inches(18.5, 10.5)\n",
    "pyplot.show()"
   ]
  },
  {
   "cell_type": "code",
   "execution_count": 35,
   "metadata": {
    "pycharm": {
     "name": "#%%\n"
    }
   },
   "outputs": [
    {
     "data": {
      "text/plain": "\"\\n# 随机森林\\nrf_model = RandomForestRegressor(n_estimators=1650)\\n# 把要训练的数据丢进去，进行模型训练\\nrf_model.fit(x_train,y_train)\\ny_pred = rf_model.predict(x_test)\\nprint('MSE为：',mean_squared_error(y_test,y_pred))\\n\""
     },
     "execution_count": 35,
     "metadata": {},
     "output_type": "execute_result"
    }
   ],
   "source": [
    "'''\n",
    "# 随机森林\n",
    "rf_model = RandomForestRegressor(n_estimators=1650)\n",
    "# 把要训练的数据丢进去，进行模型训练\n",
    "rf_model.fit(x_train,y_train)\n",
    "y_pred = rf_model.predict(x_test)\n",
    "print('MSE为：',mean_squared_error(y_test,y_pred))\n",
    "'''"
   ]
  },
  {
   "cell_type": "code",
   "execution_count": 36,
   "metadata": {},
   "outputs": [
    {
     "name": "stdout",
     "output_type": "stream",
     "text": [
      "0          1/1/2018 2:00\n",
      "1          1/1/2018 5:00\n",
      "2          1/1/2018 7:00\n",
      "3          1/1/2018 8:00\n",
      "4         1/1/2018 10:00\n",
      "              ...       \n",
      "3499    31/12/2018 17:00\n",
      "3500    31/12/2018 19:00\n",
      "3501    31/12/2018 21:00\n",
      "3502    31/12/2018 22:00\n",
      "3503    31/12/2018 23:00\n",
      "Name: date, Length: 3504, dtype: object\n",
      "       day  month    year  hour  Mon  Tue  Wed  Thur  Fri  Sat  ...  hour21  \\\n",
      "0      1.0    1.0  2018.0   2.0  1.0  0.0  0.0   0.0  0.0  0.0  ...     0.0   \n",
      "1      1.0    1.0  2018.0   5.0  1.0  0.0  0.0   0.0  0.0  0.0  ...     0.0   \n",
      "2      1.0    1.0  2018.0   7.0  1.0  0.0  0.0   0.0  0.0  0.0  ...     0.0   \n",
      "3      1.0    1.0  2018.0   8.0  1.0  0.0  0.0   0.0  0.0  0.0  ...     0.0   \n",
      "4      1.0    1.0  2018.0  10.0  1.0  0.0  0.0   0.0  0.0  0.0  ...     0.0   \n",
      "...    ...    ...     ...   ...  ...  ...  ...   ...  ...  ...  ...     ...   \n",
      "3499  31.0   12.0  2018.0  17.0  1.0  0.0  0.0   0.0  0.0  0.0  ...     0.0   \n",
      "3500  31.0   12.0  2018.0  19.0  1.0  0.0  0.0   0.0  0.0  0.0  ...     0.0   \n",
      "3501  31.0   12.0  2018.0  21.0  1.0  0.0  0.0   0.0  0.0  0.0  ...     1.0   \n",
      "3502  31.0   12.0  2018.0  22.0  1.0  0.0  0.0   0.0  0.0  0.0  ...     0.0   \n",
      "3503  31.0   12.0  2018.0  23.0  1.0  0.0  0.0   0.0  0.0  0.0  ...     0.0   \n",
      "\n",
      "      hour22  hour23  dayoff  temper  wet  cloud  rain  wind  weekday  \n",
      "0        0.0     0.0     0.0    17.3   78     75   0.0  28.3      1.0  \n",
      "1        0.0     0.0     0.0    17.3   78     75   0.0  28.3      1.0  \n",
      "2        0.0     0.0     0.0    17.3   78     75   0.0  28.3      1.0  \n",
      "3        0.0     0.0     0.0    17.3   78     75   0.0  28.3      1.0  \n",
      "4        0.0     0.0     0.0    17.3   78     75   0.0  28.3      1.0  \n",
      "...      ...     ...     ...     ...  ...    ...   ...   ...      ...  \n",
      "3499     0.0     0.0     1.0    13.2   68     77   0.0  26.8      1.0  \n",
      "3500     0.0     0.0     1.0    13.2   68     77   0.0  26.8      1.0  \n",
      "3501     0.0     0.0     1.0    13.2   68     77   0.0  26.8      1.0  \n",
      "3502     1.0     0.0     1.0    13.2   68     77   0.0  26.8      1.0  \n",
      "3503     0.0     1.0     1.0    13.2   68     77   0.0  26.8      1.0  \n",
      "\n",
      "[3504 rows x 42 columns]\n"
     ]
    },
    {
     "name": "stderr",
     "output_type": "stream",
     "text": [
      "C:\\Users\\snow\\.conda\\envs\\bdt\\lib\\site-packages\\ipykernel_launcher.py:4: SettingWithCopyWarning: \n",
      "A value is trying to be set on a copy of a slice from a DataFrame\n",
      "\n",
      "See the caveats in the documentation: https://pandas.pydata.org/pandas-docs/stable/user_guide/indexing.html#returning-a-view-versus-a-copy\n",
      "  after removing the cwd from sys.path.\n",
      "C:\\Users\\snow\\.conda\\envs\\bdt\\lib\\site-packages\\ipykernel_launcher.py:18: SettingWithCopyWarning: \n",
      "A value is trying to be set on a copy of a slice from a DataFrame\n",
      "\n",
      "See the caveats in the documentation: https://pandas.pydata.org/pandas-docs/stable/user_guide/indexing.html#returning-a-view-versus-a-copy\n",
      "C:\\Users\\snow\\.conda\\envs\\bdt\\lib\\site-packages\\ipykernel_launcher.py:19: SettingWithCopyWarning: \n",
      "A value is trying to be set on a copy of a slice from a DataFrame\n",
      "\n",
      "See the caveats in the documentation: https://pandas.pydata.org/pandas-docs/stable/user_guide/indexing.html#returning-a-view-versus-a-copy\n",
      "C:\\Users\\snow\\.conda\\envs\\bdt\\lib\\site-packages\\ipykernel_launcher.py:20: SettingWithCopyWarning: \n",
      "A value is trying to be set on a copy of a slice from a DataFrame\n",
      "\n",
      "See the caveats in the documentation: https://pandas.pydata.org/pandas-docs/stable/user_guide/indexing.html#returning-a-view-versus-a-copy\n",
      "C:\\Users\\snow\\.conda\\envs\\bdt\\lib\\site-packages\\ipykernel_launcher.py:21: SettingWithCopyWarning: \n",
      "A value is trying to be set on a copy of a slice from a DataFrame\n",
      "\n",
      "See the caveats in the documentation: https://pandas.pydata.org/pandas-docs/stable/user_guide/indexing.html#returning-a-view-versus-a-copy\n",
      "C:\\Users\\snow\\.conda\\envs\\bdt\\lib\\site-packages\\ipykernel_launcher.py:23: SettingWithCopyWarning: \n",
      "A value is trying to be set on a copy of a slice from a DataFrame\n",
      "\n",
      "See the caveats in the documentation: https://pandas.pydata.org/pandas-docs/stable/user_guide/indexing.html#returning-a-view-versus-a-copy\n",
      "C:\\Users\\snow\\.conda\\envs\\bdt\\lib\\site-packages\\ipykernel_launcher.py:25: SettingWithCopyWarning: \n",
      "A value is trying to be set on a copy of a slice from a DataFrame\n",
      "\n",
      "See the caveats in the documentation: https://pandas.pydata.org/pandas-docs/stable/user_guide/indexing.html#returning-a-view-versus-a-copy\n",
      "C:\\Users\\snow\\.conda\\envs\\bdt\\lib\\site-packages\\ipykernel_launcher.py:38: SettingWithCopyWarning: \n",
      "A value is trying to be set on a copy of a slice from a DataFrame\n",
      "\n",
      "See the caveats in the documentation: https://pandas.pydata.org/pandas-docs/stable/user_guide/indexing.html#returning-a-view-versus-a-copy\n",
      "C:\\Users\\snow\\.conda\\envs\\bdt\\lib\\site-packages\\ipykernel_launcher.py:40: SettingWithCopyWarning: \n",
      "A value is trying to be set on a copy of a slice from a DataFrame\n",
      "\n",
      "See the caveats in the documentation: https://pandas.pydata.org/pandas-docs/stable/user_guide/indexing.html#returning-a-view-versus-a-copy\n",
      "C:\\Users\\snow\\.conda\\envs\\bdt\\lib\\site-packages\\ipykernel_launcher.py:27: SettingWithCopyWarning: \n",
      "A value is trying to be set on a copy of a slice from a DataFrame\n",
      "\n",
      "See the caveats in the documentation: https://pandas.pydata.org/pandas-docs/stable/user_guide/indexing.html#returning-a-view-versus-a-copy\n",
      "C:\\Users\\snow\\.conda\\envs\\bdt\\lib\\site-packages\\ipykernel_launcher.py:29: SettingWithCopyWarning: \n",
      "A value is trying to be set on a copy of a slice from a DataFrame\n",
      "\n",
      "See the caveats in the documentation: https://pandas.pydata.org/pandas-docs/stable/user_guide/indexing.html#returning-a-view-versus-a-copy\n",
      "C:\\Users\\snow\\.conda\\envs\\bdt\\lib\\site-packages\\ipykernel_launcher.py:31: SettingWithCopyWarning: \n",
      "A value is trying to be set on a copy of a slice from a DataFrame\n",
      "\n",
      "See the caveats in the documentation: https://pandas.pydata.org/pandas-docs/stable/user_guide/indexing.html#returning-a-view-versus-a-copy\n",
      "C:\\Users\\snow\\.conda\\envs\\bdt\\lib\\site-packages\\ipykernel_launcher.py:33: SettingWithCopyWarning: \n",
      "A value is trying to be set on a copy of a slice from a DataFrame\n",
      "\n",
      "See the caveats in the documentation: https://pandas.pydata.org/pandas-docs/stable/user_guide/indexing.html#returning-a-view-versus-a-copy\n",
      "C:\\Users\\snow\\.conda\\envs\\bdt\\lib\\site-packages\\ipykernel_launcher.py:35: SettingWithCopyWarning: \n",
      "A value is trying to be set on a copy of a slice from a DataFrame\n",
      "\n",
      "See the caveats in the documentation: https://pandas.pydata.org/pandas-docs/stable/user_guide/indexing.html#returning-a-view-versus-a-copy\n"
     ]
    }
   ],
   "source": [
    "test_X = test_data.date\n",
    "print(test_X)\n",
    "for i in range(len(test_X)):\n",
    "   test_X[i] = re.split(r'[;,\\s/:]', test_X[i])\n",
    "\n",
    "test_features = pd.DataFrame(np.zeros([3504, 42]), columns=['day', 'month', 'year', 'hour', 'Mon', 'Tue', 'Wed', 'Thur', 'Fri', 'Sat', 'Sun', 'hour0','hour1', 'hour2',\n",
    "                          'hour3', 'hour4', 'hour5','hour6', 'hour7', 'hour8','hour9', 'hour10', 'hour11','hour12', 'hour13', 'hour14',\n",
    "                          'hour15','hour16', 'hour17','hour18', 'hour19', 'hour20','hour21', 'hour22', 'hour23', 'dayoff', 'temper',\n",
    "                         'wet', 'cloud', 'rain', 'wind', 'weekday'])\n",
    "\n",
    "test_features['temper'] = test_data.temper\n",
    "test_features['wet'] = test_data.wet\n",
    "test_features['cloud'] = test_data.cloud\n",
    "test_features['rain'] = test_data.rain\n",
    "test_features['wind'] = test_data.wind\n",
    "\n",
    "for i in range(3504):\n",
    "    test_features['day'][i] = test_X[i][0]\n",
    "    test_features['month'][i] = test_X[i][1]\n",
    "    test_features['year'][i] = test_X[i][2]\n",
    "    test_features['hour'][i] = test_X[i][3]\n",
    "    total_day, week_day = judgeDay(test_features['day'][i], test_features['month'][i], test_features['year'][i])\n",
    "    test_features['weekday'][i] = total_day\n",
    "    if total_day == 1:\n",
    "        test_features['Mon'][i] = 1\n",
    "    if total_day == 2:\n",
    "        test_features['Tue'][i] = 1\n",
    "    if total_day == 3:\n",
    "        test_features['Wed'][i] = 1\n",
    "    if total_day == 4:\n",
    "        test_features['Thur'][i] = 1\n",
    "    if total_day == 5:\n",
    "        test_features['Fri'][i] = 1\n",
    "    if total_day == 6:\n",
    "        test_features['Sat'][i] = 1\n",
    "    if total_day == 7:\n",
    "        test_features['Sun'][i] = 1\n",
    "    test_features['dayoff'][i] = week_day\n",
    "    hour = 'hour' + str(int(test_features['hour'][i]))\n",
    "    test_features[hour][i] = 1\n",
    "    \n",
    "\n",
    "print(test_features)"
   ]
  },
  {
   "cell_type": "code",
   "execution_count": 38,
   "metadata": {},
   "outputs": [
    {
     "name": "stdout",
     "output_type": "stream",
     "text": [
      "[47.788166 47.65391  41.879524 ... 44.944237 38.96092  42.826923]\n"
     ]
    }
   ],
   "source": [
    "test_list = pd.DataFrame(test_features, columns=['day', 'month', 'year', 'hour', 'Wed', 'Thur', 'Fri', 'Sat', 'Sun',\n",
    "                        'dayoff', 'temper', 'wet', 'cloud', 'rain', 'wind', 'weekday'])\n",
    "\n",
    "predicted_speed = model.predict(test_list)\n",
    "print(predicted_speed)\n"
   ]
  },
  {
   "cell_type": "code",
   "execution_count": 39,
   "metadata": {},
   "outputs": [],
   "source": [
    "#把预测的值按照格式保存为csv文件'''\n",
    "my_submission = pd.DataFrame({'id': test_data.id, 'speed': predicted_speed})\n",
    "# you could use any filename. We choose submission here\n",
    "my_submission.to_csv('submission32.csv', index=False)"
   ]
  },
  {
   "cell_type": "code",
   "execution_count": 39,
   "metadata": {
    "collapsed": true
   },
   "outputs": [],
   "source": []
  }
 ],
 "metadata": {
  "anaconda-cloud": {},
  "kernelspec": {
   "display_name": "bdt",
   "language": "python",
   "name": "bdt"
  },
  "language_info": {
   "codemirror_mode": {
    "name": "ipython",
    "version": 3
   },
   "file_extension": ".py",
   "mimetype": "text/x-python",
   "name": "python",
   "nbconvert_exporter": "python",
   "pygments_lexer": "ipython3",
   "version": "3.7.9"
  }
 },
 "nbformat": 4,
 "nbformat_minor": 1
}